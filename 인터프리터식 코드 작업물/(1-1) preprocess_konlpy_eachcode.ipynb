{
 "cells": [
  {
   "cell_type": "code",
   "execution_count": 13,
   "id": "e5c3aefe-930f-4f2f-aac3-452eb3a3579c",
   "metadata": {},
   "outputs": [
    {
     "data": {
      "text/plain": [
       "'\\nUsing MariaDB , HeidiSQL Program, Konlpy\\n'"
      ]
     },
     "execution_count": 13,
     "metadata": {},
     "output_type": "execute_result"
    }
   ],
   "source": [
    "'''\n",
    "Using MariaDB , HeidiSQL Program, Konlpy\n",
    "'''"
   ]
  },
  {
   "cell_type": "code",
   "execution_count": 14,
   "id": "899a3b8c-a1e4-4fc2-b56d-9a4a859fd61b",
   "metadata": {},
   "outputs": [],
   "source": [
    "## 데이터베이스를 사용하기 위해 Python DB API 표준을 따르는 pymysql명의 모듈 사용\n",
    "import pymysql\n",
    "import csv"
   ]
  },
  {
   "cell_type": "code",
   "execution_count": 15,
   "id": "9a85b00b-07c1-4fcb-9784-6d1ad5c80a9b",
   "metadata": {},
   "outputs": [
    {
     "name": "stdout",
     "output_type": "stream",
     "text": [
      "[{'MNG_NO': 3, 'CONTENT': '1945. 6 한국광복군(韓國光復軍) 제3지대(第三支隊)에 입대(入隊)하고 국내정진교육훈련반(國內挺進敎育訓練班)에 편입(編入)한 사실이 확인됨.'}]\n"
     ]
    }
   ],
   "source": [
    "# Connection Info\n",
    "# DictCursor cursorclass : DB를 조회한 결과를 Coulmn명이 Key인 Dictionary로 저장해줌 \n",
    "conn = pymysql.connect(host='127.0.0.1', user='root', password='root', db='pythonDB', charset = 'utf8',\n",
    "                      autocommit=True, cursorclass=pymysql.cursors.DictCursor) \n",
    "# 커서 정보\n",
    "cur = conn.cursor()\n",
    "\n",
    "# 실행할 sql문\n",
    "sql = \"SELECT * FROM book_merit WHERE MNG_NO = 3;\" \n",
    "# sql = \"SELECT * FROM book_merit WHERE MNG_NO >= 3 and MNG_NO <= 4;\" \n",
    "\n",
    "# cursor로 sql문 실행\n",
    "# execute : cursor 객체에 sql문을 실행시킴\n",
    "cur.execute(sql)\n",
    "\n",
    "# fetchall() : 지정 테이블 안의 모들 데이터를 추출\n",
    "# fetchone() : 지정 테이블 안의 데이터를 한 행씩 추출\n",
    "# fetchmany(size=원하는 데이터 수) : 지정 테이블 안의 데이터를 size 개의 행을 추출\n",
    "result = cur.fetchall()\n",
    "print(result)\n",
    "# type(result)\n",
    "\n",
    "# 저장 (트랜잭션의 변경내용을 DB에 반영시킴)\n",
    "# conn.commit()"
   ]
  },
  {
   "cell_type": "code",
   "execution_count": 16,
   "id": "cef87565-389a-4a8c-82fc-6f6579fb5e3c",
   "metadata": {},
   "outputs": [
    {
     "data": {
      "text/plain": [
       "'\\nData Preprocessing\\n'"
      ]
     },
     "execution_count": 16,
     "metadata": {},
     "output_type": "execute_result"
    }
   ],
   "source": [
    "'''\n",
    "Data Preprocessing\n",
    "'''"
   ]
  },
  {
   "cell_type": "code",
   "execution_count": 17,
   "id": "d1a436de-f714-424c-b51c-0ecb2804fffe",
   "metadata": {},
   "outputs": [],
   "source": [
    "import pandas as pd\n",
    "import re"
   ]
  },
  {
   "cell_type": "code",
   "execution_count": 18,
   "id": "2c6fbc66-c630-49a8-b43a-d31cee0e5965",
   "metadata": {},
   "outputs": [
    {
     "name": "stdout",
     "output_type": "stream",
     "text": [
      "   관리번호                                            CONTENT\n",
      "0     3  1945. 6 한국광복군(韓國光復軍) 제3지대(第三支隊)에 입대(入隊)하고 국내정진...\n"
     ]
    },
    {
     "data": {
      "text/plain": [
       "pandas.core.frame.DataFrame"
      ]
     },
     "execution_count": 18,
     "metadata": {},
     "output_type": "execute_result"
    }
   ],
   "source": [
    "# Dataframe형 선언\n",
    "df = pd.DataFrame(result)\n",
    "# columns명 변경\n",
    "df.columns = [\"관리번호\", \"CONTENT\"]\n",
    "print(df)\n",
    "type(df)"
   ]
  },
  {
   "cell_type": "code",
   "execution_count": 19,
   "id": "832c40a9-629c-4cdb-b574-88c11804e645",
   "metadata": {},
   "outputs": [],
   "source": [
    "# values를 사용해 선택해준 특정 열의 값만 추출\n",
    "# dataframe_val = df[['CONTENT']].values"
   ]
  },
  {
   "cell_type": "code",
   "execution_count": 20,
   "id": "122cd31c-4f06-4baa-8b8a-02da0a95dd6f",
   "metadata": {},
   "outputs": [],
   "source": [
    "# 추출한 값의 타입을 리스트로 변경하기 위해 tolist()를 수행\n",
    "# dataframe_list = dataframe_val.tolist()"
   ]
  },
  {
   "cell_type": "code",
   "execution_count": 21,
   "id": "ec5d84c8-b922-4e6e-bc8f-b409e9bcd880",
   "metadata": {},
   "outputs": [
    {
     "name": "stdout",
     "output_type": "stream",
     "text": [
      "[['1945. 6 한국광복군(韓國光復軍) 제3지대(第三支隊)에 입대(入隊)하고 국내정진교육훈련반(國內挺進敎育訓練班)에 편입(編入)한 사실이 확인됨.']]\n"
     ]
    },
    {
     "data": {
      "text/plain": [
       "list"
      ]
     },
     "execution_count": 21,
     "metadata": {},
     "output_type": "execute_result"
    }
   ],
   "source": [
    "dataframe_list = df[['CONTENT']].values.tolist()\n",
    "print(dataframe_list)\n",
    "type(dataframe_list)"
   ]
  },
  {
   "cell_type": "code",
   "execution_count": 22,
   "id": "17d37690-50b6-4381-9855-81d32bef5a3a",
   "metadata": {},
   "outputs": [
    {
     "name": "stdout",
     "output_type": "stream",
     "text": [
      "['1945. 6 한국광복군(韓國光復軍) 제3지대(第三支隊)에 입대(入隊)하고 국내정진교육훈련반(國內挺進敎育訓練班)에 편입(編入)한 사실이 확인됨.']\n"
     ]
    },
    {
     "data": {
      "text/plain": [
       "str"
      ]
     },
     "execution_count": 22,
     "metadata": {},
     "output_type": "execute_result"
    }
   ],
   "source": [
    "# ''.join(리스트) : 매개변수로 들어온 리스트를 문자열로 합쳐서 반환\n",
    "# split() : 괄호 안에 아무 것도 넣어주지 않으면 공백(스페이스, 탭, 엔터)를 기준으로 문자열로 나누어줌\n",
    "ListtoString = ''.join([str(element) for element in dataframe_list])\n",
    "print(ListtoString)\n",
    "type(ListtoString)"
   ]
  },
  {
   "cell_type": "code",
   "execution_count": 23,
   "id": "56797de4-ea79-4c06-83b4-8ebe3b1d23dc",
   "metadata": {},
   "outputs": [],
   "source": [
    "# konlpy : 교육용으로 개발된 형태소분석기\n",
    "from konlpy.tag import *\n",
    "hannanum = Hannanum()"
   ]
  },
  {
   "cell_type": "code",
   "execution_count": 24,
   "id": "5000759a-8018-45a8-9647-cca87f24e4ca",
   "metadata": {},
   "outputs": [
    {
     "name": "stdout",
     "output_type": "stream",
     "text": [
      "['1945', '6', '한국광복군(韓國光復軍)', '제3지대(第三支隊)', '입대(入隊)하', '국내정진교육훈련반(國內挺進敎育訓練班)', '편입(編入)한', '사실', '확인']\n",
      ">> modify: 한국광복군(韓國光復軍)\n",
      ">> modify: 제3지대(第三支隊)\n",
      ">> modify: 입대(入隊)하\n",
      ">> modify: 국내정진교육훈련반(國內挺進敎育訓練班)\n",
      ">> modify: 편입(編入)한\n",
      ">> modify: 사실\n",
      ">> modify: 확인\n",
      "['한국광복군(韓國光復軍)', '제3지대(第三支隊)', '입대(入隊)', '국내정진교육훈련반(國內挺進敎育訓練班)', '편입(編入)']\n"
     ]
    }
   ],
   "source": [
    "mpva_nouns = hannanum.nouns(ListtoString)\n",
    "print(mpva_nouns)\n",
    "# len(mpva_nouns)\n",
    "# type(mpva_nouns)\n",
    "\n",
    "# rstrip : 문자열 뒷쪽 '한'을 제거\n",
    "# lstrip : 문자열 앞쪽 제거\n",
    "\n",
    "# new code\n",
    "# mw = \"경기 사실 확인 아래 전개 \"\n",
    "\n",
    "# 불필요한 한글 부분제거\n",
    "for i, word in enumerate(mpva_nouns):\n",
    "\n",
    "#     new code\n",
    "#     if mw not in word :\n",
    "#         print('>> modify: ' + word)\n",
    "#         mpva_nouns[i] = word.strip(mw)    \n",
    "    \n",
    "    if ')' in word :\n",
    "        print('>> modify: ' + word)\n",
    "        word.split(\")\", maxsplit=1)\n",
    "        mpva_nouns[i] = word.split(\")\", maxsplit=1)[0] + ')'\n",
    "    \n",
    "    if '사실' in word :\n",
    "        print('>> modify: ' + word)\n",
    "        mpva_nouns[i] = word.rstrip('사실')\n",
    "    if '확인' in word :\n",
    "        print('>> modify: ' + word)\n",
    "        mpva_nouns[i] = word.rstrip('확인')\n",
    "\n",
    "    if '1945' in word :\n",
    "        mpva_nouns[i] = word.rstrip('1945')\n",
    "    if '6' in word :\n",
    "        mpva_nouns[i] = word.rstrip('6')\n",
    "        \n",
    "#     if '하' in word :\n",
    "#         print('>> modify: ' + word)\n",
    "#         mpva_nouns[i] = word.rstrip('하')         \n",
    "#         if '휘하' in word :\n",
    "#             mpva_nouns[i] = word.rstrip('')\n",
    "#         if '하순' in word :\n",
    "#             mpva_nouns[i] = word.rstrip('')\n",
    "            \n",
    "#     # 필요한 단어는 제거되면 안되기 때문에 조건문으로 처리\n",
    "#     # 한국광복군, 편입한 중에 편입한의 '한'만 제거\n",
    "#     if '한' in word :\n",
    "#         print('>> modify: ' + word)\n",
    "#         mpva_nouns[i] = word.rstrip('한')\n",
    "        \n",
    "#     if '일' in word :\n",
    "#         print('>> modify: ' + word)\n",
    "#         mpva_nouns[i] = word.rstrip('일')\n",
    "#         # 불필요한 작업일 수도.\n",
    "#         if '16일' in word :\n",
    "#             mpva_nouns[i] = word.rstrip('')\n",
    "#         if '20일' in word :\n",
    "#             mpva_nouns[i] = word.rstrip('')\n",
    "#         if '22일' in word :\n",
    "#             mpva_nouns[i] = word.rstrip('')            \n",
    "#         if '25일' in word :\n",
    "#             mpva_nouns[i] = word.rstrip('')            \n",
    "#         if '27일' in word :\n",
    "#             mpva_nouns[i] = word.rstrip('')\n",
    "#         if '29일' in word :\n",
    "#             mpva_nouns[i] = word.rstrip('')            \n",
    "\n",
    "#     if '뜻' in word :\n",
    "#         print('>> modify: ' + word)\n",
    "#         mpva_nouns[i] = word.rstrip('뜻')     \n",
    "    \n",
    "# 위의 코드들을 실행하면 글자만 지웠기에 '' 인덱스가 남아있었습니다.\n",
    "# 그래서 ''를 제거하는 if 조건문            \n",
    "if '' in mpva_nouns :\n",
    "    mpva_nouns = list(filter(None, mpva_nouns))\n",
    "            \n",
    "print(mpva_nouns)\n",
    "# type(mpva_nouns)"
   ]
  },
  {
   "cell_type": "code",
   "execution_count": 25,
   "id": "b5539e1b-9564-4f62-acb7-811f2565b247",
   "metadata": {},
   "outputs": [
    {
     "name": "stdout",
     "output_type": "stream",
     "text": [
      "   관리번호                                            CONTENT\n",
      "0     3  1945. 6 한국광복군(韓國光復軍) 제3지대(第三支隊)에 입대(入隊)하고 국내정진...\n"
     ]
    }
   ],
   "source": [
    "print(df)"
   ]
  },
  {
   "cell_type": "code",
   "execution_count": 26,
   "id": "5e8ba5c4-2d5f-4117-8b00-41884f8da5a3",
   "metadata": {},
   "outputs": [
    {
     "name": "stdout",
     "output_type": "stream",
     "text": [
      "                     단어\n",
      "0          한국광복군(韓國光復軍)\n",
      "1            제3지대(第三支隊)\n",
      "2                입대(入隊)\n",
      "3  국내정진교육훈련반(國內挺進敎育訓練班)\n",
      "4                편입(編入)\n"
     ]
    }
   ],
   "source": [
    "df2 = pd.DataFrame(mpva_nouns)\n",
    "df2.columns = ['단어']\n",
    "print(df2)"
   ]
  },
  {
   "cell_type": "code",
   "execution_count": 32,
   "id": "3b0ab0a3-35b1-4b35-9993-f5b9481b2bdc",
   "metadata": {},
   "outputs": [
    {
     "data": {
      "text/html": [
       "<div>\n",
       "<style scoped>\n",
       "    .dataframe tbody tr th:only-of-type {\n",
       "        vertical-align: middle;\n",
       "    }\n",
       "\n",
       "    .dataframe tbody tr th {\n",
       "        vertical-align: top;\n",
       "    }\n",
       "\n",
       "    .dataframe thead th {\n",
       "        text-align: right;\n",
       "    }\n",
       "</style>\n",
       "<table border=\"1\" class=\"dataframe\">\n",
       "  <thead>\n",
       "    <tr style=\"text-align: right;\">\n",
       "      <th></th>\n",
       "      <th>관리번호</th>\n",
       "      <th>단어</th>\n",
       "    </tr>\n",
       "  </thead>\n",
       "  <tbody>\n",
       "    <tr>\n",
       "      <th>0</th>\n",
       "      <td>3</td>\n",
       "      <td>한국광복군(韓國光復軍)</td>\n",
       "    </tr>\n",
       "    <tr>\n",
       "      <th>1</th>\n",
       "      <td>3</td>\n",
       "      <td>제3지대(第三支隊)</td>\n",
       "    </tr>\n",
       "    <tr>\n",
       "      <th>2</th>\n",
       "      <td>3</td>\n",
       "      <td>입대(入隊)</td>\n",
       "    </tr>\n",
       "    <tr>\n",
       "      <th>3</th>\n",
       "      <td>3</td>\n",
       "      <td>국내정진교육훈련반(國內挺進敎育訓練班)</td>\n",
       "    </tr>\n",
       "    <tr>\n",
       "      <th>4</th>\n",
       "      <td>3</td>\n",
       "      <td>편입(編入)</td>\n",
       "    </tr>\n",
       "  </tbody>\n",
       "</table>\n",
       "</div>"
      ],
      "text/plain": [
       "   관리번호                    단어\n",
       "0     3          한국광복군(韓國光復軍)\n",
       "1     3            제3지대(第三支隊)\n",
       "2     3                입대(入隊)\n",
       "3     3  국내정진교육훈련반(國內挺進敎育訓練班)\n",
       "4     3                편입(編入)"
      ]
     },
     "execution_count": 32,
     "metadata": {},
     "output_type": "execute_result"
    }
   ],
   "source": [
    "# axis=0 : 행 방향, 작업 결과가 행으로 나타남\n",
    "# axis=1 : 열 방향, 작업 결과가 열로 나타남\n",
    "# drop() : 삭제된 결과값만 보일 뿐, 메모리에 있는 데이터프레임 값이 실제로 삭제된 것은 아니다\n",
    "# concat : 행과 열을 axis 값에 맞게 병합함\n",
    "pd.concat([df,df2], axis=1).drop('CONTENT', axis=1)\n",
    "\n",
    "# fillna : 누락된 '키' 값을 입력한 값으로 채워주거나, 기능을 통해 채울 수 있다.\n",
    "conc_df = pd.concat([df,df2], axis= 1).fillna(method='pad').drop('CONTENT', axis=1)\n",
    "# 관리번호 컬럼 : 실수형에서 정수형으로 형 변환\n",
    "conc_df = conc_df.astype({'관리번호': 'int'})\n",
    "conc_df"
   ]
  },
  {
   "cell_type": "code",
   "execution_count": 33,
   "id": "4dea8e9a-b1a7-468d-83dc-7fdfcb9c81e4",
   "metadata": {},
   "outputs": [
    {
     "data": {
      "text/html": [
       "<div>\n",
       "<style scoped>\n",
       "    .dataframe tbody tr th:only-of-type {\n",
       "        vertical-align: middle;\n",
       "    }\n",
       "\n",
       "    .dataframe tbody tr th {\n",
       "        vertical-align: top;\n",
       "    }\n",
       "\n",
       "    .dataframe thead th {\n",
       "        text-align: right;\n",
       "    }\n",
       "</style>\n",
       "<table border=\"1\" class=\"dataframe\">\n",
       "  <thead>\n",
       "    <tr style=\"text-align: right;\">\n",
       "      <th></th>\n",
       "      <th>관리번호</th>\n",
       "      <th>연번</th>\n",
       "      <th>단어</th>\n",
       "    </tr>\n",
       "  </thead>\n",
       "  <tbody>\n",
       "    <tr>\n",
       "      <th>0</th>\n",
       "      <td>3</td>\n",
       "      <td>1</td>\n",
       "      <td>한국광복군(韓國光復軍)</td>\n",
       "    </tr>\n",
       "    <tr>\n",
       "      <th>1</th>\n",
       "      <td>3</td>\n",
       "      <td>2</td>\n",
       "      <td>제3지대(第三支隊)</td>\n",
       "    </tr>\n",
       "    <tr>\n",
       "      <th>2</th>\n",
       "      <td>3</td>\n",
       "      <td>3</td>\n",
       "      <td>입대(入隊)</td>\n",
       "    </tr>\n",
       "    <tr>\n",
       "      <th>3</th>\n",
       "      <td>3</td>\n",
       "      <td>4</td>\n",
       "      <td>국내정진교육훈련반(國內挺進敎育訓練班)</td>\n",
       "    </tr>\n",
       "    <tr>\n",
       "      <th>4</th>\n",
       "      <td>3</td>\n",
       "      <td>5</td>\n",
       "      <td>편입(編入)</td>\n",
       "    </tr>\n",
       "  </tbody>\n",
       "</table>\n",
       "</div>"
      ],
      "text/plain": [
       "   관리번호  연번                    단어\n",
       "0     3   1          한국광복군(韓國光復軍)\n",
       "1     3   2            제3지대(第三支隊)\n",
       "2     3   3                입대(入隊)\n",
       "3     3   4  국내정진교육훈련반(國內挺進敎育訓練班)\n",
       "4     3   5                편입(編入)"
      ]
     },
     "execution_count": 33,
     "metadata": {},
     "output_type": "execute_result"
    }
   ],
   "source": [
    "# 연번 생성\n",
    "conc_df[\"연번\"] = conc_df.index + 1\n",
    "# columns 순서 변경\n",
    "conc_df = conc_df[['관리번호', '연번', '단어']]\n",
    "conc_df"
   ]
  },
  {
   "cell_type": "code",
   "execution_count": 29,
   "id": "260fca00-f79e-4628-abfa-f203ba1bd9c1",
   "metadata": {},
   "outputs": [],
   "source": [
    "# 지정된 경로에 csv 파일 생성\n",
    "#conc_df.to_csv('C:\\python\\Testcsv.csv', index = None,encoding='utf-8-sig')"
   ]
  },
  {
   "cell_type": "code",
   "execution_count": null,
   "id": "28f662a1-0e71-4d9c-890b-73ea3bdac3be",
   "metadata": {},
   "outputs": [],
   "source": []
  }
 ],
 "metadata": {
  "kernelspec": {
   "display_name": "Python 3 (ipykernel)",
   "language": "python",
   "name": "python3"
  },
  "language_info": {
   "codemirror_mode": {
    "name": "ipython",
    "version": 3
   },
   "file_extension": ".py",
   "mimetype": "text/x-python",
   "name": "python",
   "nbconvert_exporter": "python",
   "pygments_lexer": "ipython3",
   "version": "3.8.10"
  }
 },
 "nbformat": 4,
 "nbformat_minor": 5
}
