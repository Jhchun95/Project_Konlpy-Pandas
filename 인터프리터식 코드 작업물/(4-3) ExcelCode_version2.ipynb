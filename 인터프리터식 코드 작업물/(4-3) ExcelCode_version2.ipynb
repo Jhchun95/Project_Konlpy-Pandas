{
 "cells": [
  {
   "cell_type": "code",
   "execution_count": 1,
   "id": "e5c3aefe-930f-4f2f-aac3-452eb3a3579c",
   "metadata": {},
   "outputs": [
    {
     "data": {
      "text/plain": [
       "'\\nMariaDB , HeidiSQL Program Connection Code\\n'"
      ]
     },
     "execution_count": 1,
     "metadata": {},
     "output_type": "execute_result"
    }
   ],
   "source": [
    "'''\n",
    "MariaDB , HeidiSQL Program Connection Code\n",
    "'''"
   ]
  },
  {
   "cell_type": "code",
   "execution_count": 2,
   "id": "899a3b8c-a1e4-4fc2-b56d-9a4a859fd61b",
   "metadata": {},
   "outputs": [],
   "source": [
    "## 데이터베이스를 사용하기 위해 Python DB API 표준을 따르는 pymysql이라는 모듈 사용\n",
    "import pymysql\n",
    "import csv\n",
    "\n",
    "import pandas as pd\n",
    "import numpy as np\n",
    "import re"
   ]
  },
  {
   "cell_type": "code",
   "execution_count": 3,
   "id": "9a85b00b-07c1-4fcb-9784-6d1ad5c80a9b",
   "metadata": {},
   "outputs": [
    {
     "name": "stderr",
     "output_type": "stream",
     "text": [
      "IOPub data rate exceeded.\n",
      "The Jupyter server will temporarily stop sending output\n",
      "to the client in order to avoid crashing it.\n",
      "To change this limit, set the config variable\n",
      "`--ServerApp.iopub_data_rate_limit`.\n",
      "\n",
      "Current values:\n",
      "ServerApp.iopub_data_rate_limit=1000000.0 (bytes/sec)\n",
      "ServerApp.rate_limit_window=3.0 (secs)\n",
      "\n"
     ]
    }
   ],
   "source": [
    "# Connection Info\n",
    "# DictCursor cursorclass : DB를 조회한 결과를 Coulmn명이 Key인 Dictionary로 저장해줌 \n",
    "conn = pymysql.connect(host='127.0.0.1', user='root', password='root', db='pythonDB', charset = 'utf8',\n",
    "                      autocommit=True, cursorclass=pymysql.cursors.DictCursor) \n",
    "cur = conn.cursor()\n",
    "\n",
    "sql = \"SELECT word, COUNT(*) AS CNT FROM book_merit_task GROUP BY word ORDER BY CNT DESC\"\n",
    "\n",
    "cur.execute(sql)\n",
    "resultmv = cur.fetchall()\n",
    "print(resultmv)\n",
    "\n",
    "conn.commit()\n",
    "conn.close()"
   ]
  },
  {
   "cell_type": "code",
   "execution_count": 5,
   "id": "2c6fbc66-c630-49a8-b43a-d31cee0e5965",
   "metadata": {},
   "outputs": [],
   "source": [
    "df_mv = pd.DataFrame(resultmv)"
   ]
  },
  {
   "cell_type": "code",
   "execution_count": 6,
   "id": "fb15257f-18dd-4e24-83c3-b1de413c0722",
   "metadata": {},
   "outputs": [],
   "source": [
    "df_mv.to_excel('C:\\python\\qwer.xlsx', index = None,encoding='utf-8-sig')"
   ]
  },
  {
   "cell_type": "code",
   "execution_count": null,
   "id": "b8ddc91d-0023-48cc-bee6-e2d2f01df172",
   "metadata": {},
   "outputs": [],
   "source": []
  }
 ],
 "metadata": {
  "kernelspec": {
   "display_name": "Python 3 (ipykernel)",
   "language": "python",
   "name": "python3"
  },
  "language_info": {
   "codemirror_mode": {
    "name": "ipython",
    "version": 3
   },
   "file_extension": ".py",
   "mimetype": "text/x-python",
   "name": "python",
   "nbconvert_exporter": "python",
   "pygments_lexer": "ipython3",
   "version": "3.8.10"
  }
 },
 "nbformat": 4,
 "nbformat_minor": 5
}
