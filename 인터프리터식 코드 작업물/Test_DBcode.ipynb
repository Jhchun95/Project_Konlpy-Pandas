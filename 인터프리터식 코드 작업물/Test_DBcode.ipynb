{
 "cells": [
  {
   "cell_type": "code",
   "execution_count": 1,
   "id": "cfb1b2fe-7fc4-42b9-abe7-bd801a6d6a20",
   "metadata": {},
   "outputs": [],
   "source": [
    "import pymysql\n",
    "import csv\n",
    "\n",
    "import pandas as pd\n",
    "import numpy as np\n",
    "import re"
   ]
  },
  {
   "cell_type": "code",
   "execution_count": 2,
   "id": "c35251e8-90b0-4b0b-ab8f-82cf1e5c1af4",
   "metadata": {},
   "outputs": [],
   "source": [
    "conn = pymysql.connect(host='127.0.0.1', user='root', password='root', db='pythonDB', charset = 'utf8',\n",
    "                      autocommit=True, cursorclass=pymysql.cursors.DictCursor) \n",
    "cur = conn.cursor()\n",
    "\n",
    "sql = \"SELECT WORD, COUNT(*) AS CNT FROM book_merit_gh GROUP BY WORD order by CNT DESC\"\n",
    "\n",
    "cur.execute(sql)\n",
    "result = cur.fetchall()\n",
    "# print(result)\n",
    "\n",
    "conn.commit()\n",
    "conn.close()"
   ]
  },
  {
   "cell_type": "code",
   "execution_count": 3,
   "id": "3ed1b175-e24b-44de-95dc-64596c10d356",
   "metadata": {},
   "outputs": [
    {
     "data": {
      "text/html": [
       "<div>\n",
       "<style scoped>\n",
       "    .dataframe tbody tr th:only-of-type {\n",
       "        vertical-align: middle;\n",
       "    }\n",
       "\n",
       "    .dataframe tbody tr th {\n",
       "        vertical-align: top;\n",
       "    }\n",
       "\n",
       "    .dataframe thead th {\n",
       "        text-align: right;\n",
       "    }\n",
       "</style>\n",
       "<table border=\"1\" class=\"dataframe\">\n",
       "  <thead>\n",
       "    <tr style=\"text-align: right;\">\n",
       "      <th></th>\n",
       "      <th>WORD</th>\n",
       "      <th>CNT</th>\n",
       "    </tr>\n",
       "  </thead>\n",
       "  <tbody>\n",
       "    <tr>\n",
       "      <th>0</th>\n",
       "      <td>등</td>\n",
       "      <td>30807</td>\n",
       "    </tr>\n",
       "    <tr>\n",
       "      <th>1</th>\n",
       "      <td>그</td>\n",
       "      <td>17227</td>\n",
       "    </tr>\n",
       "    <tr>\n",
       "      <th>2</th>\n",
       "      <td>활동</td>\n",
       "      <td>16437</td>\n",
       "    </tr>\n",
       "    <tr>\n",
       "      <th>3</th>\n",
       "      <td>정부</td>\n",
       "      <td>16048</td>\n",
       "    </tr>\n",
       "    <tr>\n",
       "      <th>4</th>\n",
       "      <td>추서하</td>\n",
       "      <td>14771</td>\n",
       "    </tr>\n",
       "    <tr>\n",
       "      <th>...</th>\n",
       "      <td>...</td>\n",
       "      <td>...</td>\n",
       "    </tr>\n",
       "    <tr>\n",
       "      <th>124349</th>\n",
       "      <td>맹휴주도자</td>\n",
       "      <td>1</td>\n",
       "    </tr>\n",
       "    <tr>\n",
       "      <th>124350</th>\n",
       "      <td>천도교천일기념일</td>\n",
       "      <td>1</td>\n",
       "    </tr>\n",
       "    <tr>\n",
       "      <th>124351</th>\n",
       "      <td>정광조(鄭廣朝)에</td>\n",
       "      <td>1</td>\n",
       "    </tr>\n",
       "    <tr>\n",
       "      <th>124352</th>\n",
       "      <td>대흥군(현</td>\n",
       "      <td>1</td>\n",
       "    </tr>\n",
       "    <tr>\n",
       "      <th>124353</th>\n",
       "      <td>민창식의진(閔昌植義陣)</td>\n",
       "      <td>1</td>\n",
       "    </tr>\n",
       "  </tbody>\n",
       "</table>\n",
       "<p>124354 rows × 2 columns</p>\n",
       "</div>"
      ],
      "text/plain": [
       "                WORD    CNT\n",
       "0                  등  30807\n",
       "1                  그  17227\n",
       "2                 활동  16437\n",
       "3                 정부  16048\n",
       "4                추서하  14771\n",
       "...              ...    ...\n",
       "124349         맹휴주도자      1\n",
       "124350      천도교천일기념일      1\n",
       "124351     정광조(鄭廣朝)에      1\n",
       "124352         대흥군(현      1\n",
       "124353  민창식의진(閔昌植義陣)      1\n",
       "\n",
       "[124354 rows x 2 columns]"
      ]
     },
     "execution_count": 3,
     "metadata": {},
     "output_type": "execute_result"
    }
   ],
   "source": [
    "df_result = pd.DataFrame(result)\n",
    "df_result"
   ]
  },
  {
   "cell_type": "code",
   "execution_count": 17,
   "id": "cf43132c-1ac6-44e1-84a3-683f866cc0d9",
   "metadata": {},
   "outputs": [],
   "source": [
    "df_result.to_csv('C:\\python\\Mpva_file.csv', index = None,encoding='utf-8-sig')"
   ]
  },
  {
   "cell_type": "code",
   "execution_count": null,
   "id": "c025aa63-226b-4d8d-95bb-ab6ea4133a08",
   "metadata": {},
   "outputs": [],
   "source": []
  }
 ],
 "metadata": {
  "kernelspec": {
   "display_name": "Python 3 (ipykernel)",
   "language": "python",
   "name": "python3"
  },
  "language_info": {
   "codemirror_mode": {
    "name": "ipython",
    "version": 3
   },
   "file_extension": ".py",
   "mimetype": "text/x-python",
   "name": "python",
   "nbconvert_exporter": "python",
   "pygments_lexer": "ipython3",
   "version": "3.8.10"
  }
 },
 "nbformat": 4,
 "nbformat_minor": 5
}
