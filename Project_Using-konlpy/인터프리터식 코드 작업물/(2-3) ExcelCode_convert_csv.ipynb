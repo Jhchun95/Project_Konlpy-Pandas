{
 "cells": [
  {
   "cell_type": "code",
   "execution_count": 10,
   "id": "e5c3aefe-930f-4f2f-aac3-452eb3a3579c",
   "metadata": {},
   "outputs": [
    {
     "data": {
      "text/plain": [
       "'\\nMariaDB , HeidiSQL Program Connection Code\\n'"
      ]
     },
     "execution_count": 10,
     "metadata": {},
     "output_type": "execute_result"
    }
   ],
   "source": [
    "'''\n",
    "MariaDB , HeidiSQL Program Connection Code\n",
    "'''"
   ]
  },
  {
   "cell_type": "code",
   "execution_count": 11,
   "id": "899a3b8c-a1e4-4fc2-b56d-9a4a859fd61b",
   "metadata": {},
   "outputs": [],
   "source": [
    "## 데이터베이스를 사용하기 위해 Python DB API 표준을 따르는 pymysql이라는 모듈 사용\n",
    "import pymysql\n",
    "import csv\n",
    "\n",
    "import pandas as pd\n",
    "import numpy as np\n",
    "import re"
   ]
  },
  {
   "cell_type": "code",
   "execution_count": 12,
   "id": "8e1082bc-e3cd-4f82-a79b-6e3f7ae51ceb",
   "metadata": {},
   "outputs": [],
   "source": [
    "# 시간 측정에 필요한 라이브러리\n",
    "from timeit import default_timer as timer\n",
    "from datetime import timedelta\n",
    "start = timer()"
   ]
  },
  {
   "cell_type": "code",
   "execution_count": 13,
   "id": "d1a436de-f714-424c-b51c-0ecb2804fffe",
   "metadata": {},
   "outputs": [
    {
     "name": "stdout",
     "output_type": "stream",
     "text": [
      "0:00:16.328642\n",
      "0\n"
     ]
    }
   ],
   "source": [
    "conn = pymysql.connect(host='127.0.0.1', user='root', password='root', db='pythonDB', charset = 'utf8',\n",
    "                      autocommit=True, cursorclass=pymysql.cursors.DictCursor) \n",
    "cur = conn.cursor()\n",
    "# sum : 단어의 총 갯수를 알기 위해 선언한 것, sum은 0부터 시작\n",
    "sum = 0\n",
    "\n",
    "try :\n",
    "    with cur:\n",
    "\n",
    "        # 2 ~ 11\n",
    "        for i in range(2,12):\n",
    "            # str(i) 선언 : 현재 i의 값은 정수형이므로 문자형으로 형변환해줘야함\n",
    "            # sql문\n",
    "            sql = \"SELECT * FROM book_merit_gh_copy WHERE MNG_NO = \" + str(i) + \";\"\n",
    "            cur.execute(sql)\n",
    "            result_del = cur.fetchall()\n",
    "\n",
    "            for j in result:\n",
    "                df_del = pd.DataFrame(result_del)\n",
    "                # i의 갯수만큼 csv파일을 생성함\n",
    "                df_del.to_csv('C:\\python\\mpva_del\\mpva_del'+ str(i) + '.csv', index = None,encoding='utf-8-sig')\n",
    "                conn.commit()\n",
    "                \n",
    "except:\n",
    "    print('Error')\n",
    "                \n",
    "finally :\n",
    "    # 시간 구하는 식\n",
    "    end = timer()\n",
    "    print(timedelta(seconds= end-start))\n",
    "    # 총 단어 갯수\n",
    "    print(sum)\n",
    "    # connection close\n",
    "    conn.close()"
   ]
  }
 ],
 "metadata": {
  "kernelspec": {
   "display_name": "Python 3 (ipykernel)",
   "language": "python",
   "name": "python3"
  },
  "language_info": {
   "codemirror_mode": {
    "name": "ipython",
    "version": 3
   },
   "file_extension": ".py",
   "mimetype": "text/x-python",
   "name": "python",
   "nbconvert_exporter": "python",
   "pygments_lexer": "ipython3",
   "version": "3.8.10"
  }
 },
 "nbformat": 4,
 "nbformat_minor": 5
}
