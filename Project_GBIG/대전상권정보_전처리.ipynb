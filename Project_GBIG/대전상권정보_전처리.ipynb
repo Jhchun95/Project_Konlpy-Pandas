{
 "cells": [
  {
   "cell_type": "code",
   "execution_count": 1,
   "id": "10956b3c",
   "metadata": {},
   "outputs": [],
   "source": [
    "import pandas as pd"
   ]
  },
  {
   "cell_type": "code",
   "execution_count": 11,
   "id": "ed6a0a0c",
   "metadata": {},
   "outputs": [],
   "source": [
    "#data load\n",
    "df_store = pd.read_csv('C:/Users/user/Desktop/프로젝트/대전_상권정보.csv')"
   ]
  },
  {
   "cell_type": "code",
   "execution_count": 12,
   "id": "7b59d56a",
   "metadata": {},
   "outputs": [
    {
     "data": {
      "text/html": [
       "<div>\n",
       "<style scoped>\n",
       "    .dataframe tbody tr th:only-of-type {\n",
       "        vertical-align: middle;\n",
       "    }\n",
       "\n",
       "    .dataframe tbody tr th {\n",
       "        vertical-align: top;\n",
       "    }\n",
       "\n",
       "    .dataframe thead th {\n",
       "        text-align: right;\n",
       "    }\n",
       "</style>\n",
       "<table border=\"1\" class=\"dataframe\">\n",
       "  <thead>\n",
       "    <tr style=\"text-align: right;\">\n",
       "      <th></th>\n",
       "      <th>상가업소번호</th>\n",
       "      <th>상호명</th>\n",
       "      <th>지점명</th>\n",
       "      <th>상권업종대분류코드</th>\n",
       "      <th>상권업종대분류명</th>\n",
       "      <th>상권업종중분류코드</th>\n",
       "      <th>상권업종중분류명</th>\n",
       "      <th>상권업종소분류코드</th>\n",
       "      <th>상권업종소분류명</th>\n",
       "      <th>표준산업분류코드</th>\n",
       "      <th>...</th>\n",
       "      <th>건물관리번호</th>\n",
       "      <th>건물명</th>\n",
       "      <th>도로명주소</th>\n",
       "      <th>구우편번호</th>\n",
       "      <th>신우편번호</th>\n",
       "      <th>동정보</th>\n",
       "      <th>층정보</th>\n",
       "      <th>호정보</th>\n",
       "      <th>경도</th>\n",
       "      <th>위도</th>\n",
       "    </tr>\n",
       "  </thead>\n",
       "  <tbody>\n",
       "    <tr>\n",
       "      <th>0</th>\n",
       "      <td>22401931</td>\n",
       "      <td>스피드메이트</td>\n",
       "      <td>NaN</td>\n",
       "      <td>F</td>\n",
       "      <td>생활서비스</td>\n",
       "      <td>F14</td>\n",
       "      <td>자동차/이륜차</td>\n",
       "      <td>F14A01</td>\n",
       "      <td>자동차정비/카센타</td>\n",
       "      <td>NaN</td>\n",
       "      <td>...</td>\n",
       "      <td>3.020010e+24</td>\n",
       "      <td>NaN</td>\n",
       "      <td>대전광역시 유성구 관들4길 25</td>\n",
       "      <td>305509</td>\n",
       "      <td>34018</td>\n",
       "      <td>NaN</td>\n",
       "      <td>NaN</td>\n",
       "      <td>NaN</td>\n",
       "      <td>127.393241</td>\n",
       "      <td>36.424448</td>\n",
       "    </tr>\n",
       "    <tr>\n",
       "      <th>1</th>\n",
       "      <td>20287192</td>\n",
       "      <td>도마인더키친</td>\n",
       "      <td>NaN</td>\n",
       "      <td>Q</td>\n",
       "      <td>음식</td>\n",
       "      <td>Q01</td>\n",
       "      <td>한식</td>\n",
       "      <td>Q01A01</td>\n",
       "      <td>한식/백반/한정식</td>\n",
       "      <td>I56111</td>\n",
       "      <td>...</td>\n",
       "      <td>3.020010e+24</td>\n",
       "      <td>NaN</td>\n",
       "      <td>대전광역시 유성구 반석로11번길 66-17</td>\n",
       "      <td>305150</td>\n",
       "      <td>34068</td>\n",
       "      <td>NaN</td>\n",
       "      <td>1.0</td>\n",
       "      <td>NaN</td>\n",
       "      <td>127.315486</td>\n",
       "      <td>36.389276</td>\n",
       "    </tr>\n",
       "  </tbody>\n",
       "</table>\n",
       "<p>2 rows × 39 columns</p>\n",
       "</div>"
      ],
      "text/plain": [
       "     상가업소번호     상호명  지점명 상권업종대분류코드 상권업종대분류명 상권업종중분류코드 상권업종중분류명 상권업종소분류코드  \\\n",
       "0  22401931  스피드메이트  NaN         F    생활서비스       F14  자동차/이륜차    F14A01   \n",
       "1  20287192  도마인더키친  NaN         Q       음식       Q01       한식    Q01A01   \n",
       "\n",
       "    상권업종소분류명 표준산업분류코드  ...        건물관리번호  건물명                    도로명주소  \\\n",
       "0  자동차정비/카센타      NaN  ...  3.020010e+24  NaN        대전광역시 유성구 관들4길 25   \n",
       "1  한식/백반/한정식   I56111  ...  3.020010e+24  NaN  대전광역시 유성구 반석로11번길 66-17   \n",
       "\n",
       "    구우편번호  신우편번호  동정보  층정보  호정보          경도         위도  \n",
       "0  305509  34018  NaN  NaN  NaN  127.393241  36.424448  \n",
       "1  305150  34068  NaN  1.0  NaN  127.315486  36.389276  \n",
       "\n",
       "[2 rows x 39 columns]"
      ]
     },
     "execution_count": 12,
     "metadata": {},
     "output_type": "execute_result"
    }
   ],
   "source": [
    "df_store.head(2)"
   ]
  },
  {
   "cell_type": "code",
   "execution_count": 14,
   "id": "dbc7643f",
   "metadata": {},
   "outputs": [],
   "source": [
    "#필요한 변수만 뽑아옴\n",
    "df_store2 = df_store[['상호명','지점명','상권업종중분류명','상권업종소분류명','도로명주소','경도','위도']]"
   ]
  },
  {
   "cell_type": "code",
   "execution_count": 15,
   "id": "8b98e68a",
   "metadata": {},
   "outputs": [
    {
     "data": {
      "text/html": [
       "<div>\n",
       "<style scoped>\n",
       "    .dataframe tbody tr th:only-of-type {\n",
       "        vertical-align: middle;\n",
       "    }\n",
       "\n",
       "    .dataframe tbody tr th {\n",
       "        vertical-align: top;\n",
       "    }\n",
       "\n",
       "    .dataframe thead th {\n",
       "        text-align: right;\n",
       "    }\n",
       "</style>\n",
       "<table border=\"1\" class=\"dataframe\">\n",
       "  <thead>\n",
       "    <tr style=\"text-align: right;\">\n",
       "      <th></th>\n",
       "      <th>상호명</th>\n",
       "      <th>지점명</th>\n",
       "      <th>상권업종중분류명</th>\n",
       "      <th>상권업종소분류명</th>\n",
       "      <th>도로명주소</th>\n",
       "      <th>경도</th>\n",
       "      <th>위도</th>\n",
       "    </tr>\n",
       "  </thead>\n",
       "  <tbody>\n",
       "    <tr>\n",
       "      <th>0</th>\n",
       "      <td>스피드메이트</td>\n",
       "      <td>NaN</td>\n",
       "      <td>자동차/이륜차</td>\n",
       "      <td>자동차정비/카센타</td>\n",
       "      <td>대전광역시 유성구 관들4길 25</td>\n",
       "      <td>127.393241</td>\n",
       "      <td>36.424448</td>\n",
       "    </tr>\n",
       "    <tr>\n",
       "      <th>1</th>\n",
       "      <td>도마인더키친</td>\n",
       "      <td>NaN</td>\n",
       "      <td>한식</td>\n",
       "      <td>한식/백반/한정식</td>\n",
       "      <td>대전광역시 유성구 반석로11번길 66-17</td>\n",
       "      <td>127.315486</td>\n",
       "      <td>36.389276</td>\n",
       "    </tr>\n",
       "  </tbody>\n",
       "</table>\n",
       "</div>"
      ],
      "text/plain": [
       "      상호명  지점명 상권업종중분류명   상권업종소분류명                    도로명주소          경도  \\\n",
       "0  스피드메이트  NaN  자동차/이륜차  자동차정비/카센타        대전광역시 유성구 관들4길 25  127.393241   \n",
       "1  도마인더키친  NaN       한식  한식/백반/한정식  대전광역시 유성구 반석로11번길 66-17  127.315486   \n",
       "\n",
       "          위도  \n",
       "0  36.424448  \n",
       "1  36.389276  "
      ]
     },
     "execution_count": 15,
     "metadata": {},
     "output_type": "execute_result"
    }
   ],
   "source": [
    "df_store2.head(2)"
   ]
  },
  {
   "cell_type": "code",
   "execution_count": 17,
   "id": "efe649fd",
   "metadata": {},
   "outputs": [],
   "source": [
    "#중분류명이 종합 소매점인 데이터만 가져옴\n",
    "df_store3 = df_store2[df_store2['상권업종중분류명']=='종합소매점']"
   ]
  },
  {
   "cell_type": "code",
   "execution_count": 18,
   "id": "91e60219",
   "metadata": {},
   "outputs": [
    {
     "data": {
      "text/plain": [
       "편의점          1197\n",
       "수퍼마켓         1034\n",
       "종합소매          489\n",
       "시장/종합상가       271\n",
       "잡화점           242\n",
       "할인점           216\n",
       "생활용품판매        186\n",
       "구판장/직판장        20\n",
       "아케이드/쇼핑센타      15\n",
       "백화점            12\n",
       "혼수전문점          11\n",
       "수입품판매점          8\n",
       "조합/연금매장         7\n",
       "Name: 상권업종소분류명, dtype: int64"
      ]
     },
     "execution_count": 18,
     "metadata": {},
     "output_type": "execute_result"
    }
   ],
   "source": [
    "#소분류명에 어떠한 것이 몇개 있는지 파악하기 위해서\n",
    "df_store3['상권업종소분류명'].value_counts()"
   ]
  },
  {
   "cell_type": "code",
   "execution_count": 20,
   "id": "aa8148cd",
   "metadata": {},
   "outputs": [],
   "source": [
    "#위의 소분류명중 편의성과 필요없는 분류명은 제외시킴\n",
    "#구판장/직판장, 혼수전문점, 수입품판매점, 조합/연금매장 제거 \n",
    "df_store4 = df_store3[(df_store3['상권업종소분류명']!='구판장/직판장') & (df_store3['상권업종소분류명']!='혼수전문점') & \n",
    "          (df_store3['상권업종소분류명']!='수입품판매점') & (df_store3['상권업종소분류명']!='조합/연금매장')]"
   ]
  },
  {
   "cell_type": "code",
   "execution_count": 21,
   "id": "38e59a7d",
   "metadata": {},
   "outputs": [],
   "source": [
    "df_store4.to_csv('C:/Users/user/Desktop/프로젝트/df_store.csv', index=False, encoding='cp949')"
   ]
  },
  {
   "cell_type": "code",
   "execution_count": null,
   "id": "8aa22e29",
   "metadata": {},
   "outputs": [],
   "source": []
  }
 ],
 "metadata": {
  "kernelspec": {
   "display_name": "Python 3",
   "language": "python",
   "name": "python3"
  },
  "language_info": {
   "codemirror_mode": {
    "name": "ipython",
    "version": 3
   },
   "file_extension": ".py",
   "mimetype": "text/x-python",
   "name": "python",
   "nbconvert_exporter": "python",
   "pygments_lexer": "ipython3",
   "version": "3.8.8"
  }
 },
 "nbformat": 4,
 "nbformat_minor": 5
}
